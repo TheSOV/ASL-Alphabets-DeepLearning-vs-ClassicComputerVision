{
 "cells": [
  {
   "cell_type": "markdown",
   "metadata": {},
   "source": [
    "# Pre-processing images"
   ]
  },
  {
   "cell_type": "code",
   "execution_count": 4,
   "metadata": {},
   "outputs": [
    {
     "name": "stderr",
     "output_type": "stream",
     "text": [
      "  0%|                                                                                           | 0/29 [00:00<?, ?it/s]"
     ]
    },
    {
     "name": "stdout",
     "output_type": "stream",
     "text": [
      "Preprocessing 1200 from each category...\n"
     ]
    },
    {
     "name": "stderr",
     "output_type": "stream",
     "text": [
      "100%|██████████████████████████████████████████████████████████████████████████████████| 29/29 [06:59<00:00, 14.46s/it]"
     ]
    },
    {
     "name": "stdout",
     "output_type": "stream",
     "text": [
      "DONE\n"
     ]
    },
    {
     "name": "stderr",
     "output_type": "stream",
     "text": [
      "\n"
     ]
    }
   ],
   "source": [
    "import os\n",
    "import cv2\n",
    "import random\n",
    "import numpy as np\n",
    "from tqdm import tqdm\n",
    "num_images=int(input(\"Enter the number of images required for pre-processing\"))\n",
    "print(f\"Preprocessing {num_images} from each category...\")\n",
    "\n",
    "\n",
    "# get all the directory paths\n",
    "dir_paths = os.listdir('ASL\\\\input\\\\asl_alphabet_train\\\\asl_alphabet_train')\n",
    "dir_paths.sort()\n",
    "root_path = 'ASL\\\\input\\\\asl_alphabet_train\\\\asl_alphabet_train'\n",
    "\n",
    "\n",
    "# get --num-images images from each category\n",
    "for idx, dir_path  in tqdm(enumerate(dir_paths), total=len(dir_paths)):\n",
    "    all_images = os.listdir(f\"{root_path}/{dir_path}\")\n",
    "    os.makedirs(f\"ASL/input/preprocessed_image/{dir_path}\", exist_ok=True)\n",
    "    for i in range(num_images): # how many images to preprocess for each category\n",
    "        # generate a random id between 0 and 2999\n",
    "        rand_id = (random.randint(0, 2999))\n",
    "        image = cv2.imread(f\"{root_path}/{dir_path}/{all_images[rand_id]}\")\n",
    "        image = cv2.resize(image, (224, 224))\n",
    "        cv2.imwrite(f\"ASL/input/preprocessed_image/{dir_path}/{dir_path}{i}.jpg\", image)\n",
    "print('DONE')\n"
   ]
  },
  {
   "cell_type": "markdown",
   "metadata": {},
   "source": [
    "# Creating a csv file with labels and path"
   ]
  },
  {
   "cell_type": "code",
   "execution_count": 5,
   "metadata": {},
   "outputs": [
    {
     "name": "stderr",
     "output_type": "stream",
     "text": [
      "100%|███████████████████████████████████████████████████████████████████████████| 34800/34800 [01:10<00:00, 496.02it/s]\n"
     ]
    },
    {
     "name": "stdout",
     "output_type": "stream",
     "text": [
      "The first one hot encoded labels: [1 0 0 0 0 0 0 0 0 0 0 0 0 0 0 0 0 0 0 0 0 0 0 0 0 0 0 0 0]\n",
      "Mapping the first one hot encoded label to its category: A\n",
      "Total instances: 34800\n",
      "Saving the binarized labels as pickled file\n",
      "                                 image_path  target\n",
      "0   ASL\\input\\preprocessed_image\\I\\I340.jpg     8.0\n",
      "1  ASL\\input\\preprocessed_image\\P\\P1195.jpg    15.0\n",
      "2   ASL\\input\\preprocessed_image\\X\\X624.jpg    23.0\n",
      "3   ASL\\input\\preprocessed_image\\H\\H682.jpg     7.0\n",
      "4   ASL\\input\\preprocessed_image\\E\\E714.jpg     4.0\n"
     ]
    }
   ],
   "source": [
    "import pandas as pd\n",
    "import numpy as np\n",
    "import os\n",
    "import joblib\n",
    "from sklearn.preprocessing import LabelBinarizer\n",
    "from tqdm import tqdm\n",
    "from imutils import paths\n",
    "# get all the image paths\n",
    "image_paths = list(paths.list_images('ASL\\\\input\\\\preprocessed_image'))\n",
    "# create a DataFrame \n",
    "data = pd.DataFrame()\n",
    "labels = []\n",
    "for i, image_path in tqdm(enumerate(image_paths), total=len(image_paths)):\n",
    "    label = image_path.split(os.path.sep)[-2]\n",
    "    # save the relative path for mapping image to target\n",
    "    data.loc[i, 'image_path'] = image_path\n",
    "    labels.append(label)\n",
    "labels = np.array(labels)\n",
    "# one hot encode the labels\n",
    "lb = LabelBinarizer()\n",
    "labels = lb.fit_transform(labels)\n",
    "print(f\"The first one hot encoded labels: {labels[0]}\")\n",
    "print(f\"Mapping the first one hot encoded label to its category: {lb.classes_[0]}\")\n",
    "print(f\"Total instances: {len(labels)}\")\n",
    "for i in range(len(labels)):\n",
    "    index = np.argmax(labels[i])\n",
    "    data.loc[i, 'target'] = int(index)\n",
    "# shuffle the dataset\n",
    "data = data.sample(frac=1).reset_index(drop=True)\n",
    "# save as CSV file\n",
    "data.to_csv('ASL/input/data.csv', index=False)\n",
    "# pickle the binarized labels\n",
    "print('Saving the binarized labels as pickled file')\n",
    "joblib.dump(lb, 'ASL/output/lb.pkl')\n",
    "print(data.head(5))\n",
    "\n"
   ]
  },
  {
   "cell_type": "markdown",
   "metadata": {},
   "source": [
    "# Training the CNN model"
   ]
  },
  {
   "cell_type": "code",
   "execution_count": 8,
   "metadata": {},
   "outputs": [
    {
     "name": "stdout",
     "output_type": "stream",
     "text": [
      "Enter the number of epochs10\n"
     ]
    },
    {
     "name": "stderr",
     "output_type": "stream",
     "text": [
      "  0%|                                                                                          | 0/924 [00:00<?, ?it/s]"
     ]
    },
    {
     "name": "stdout",
     "output_type": "stream",
     "text": [
      "Computation device: cpu\n",
      "Training on 29580 images\n",
      "Validationg on 5220 images\n",
      "CustomCNN(\n",
      "  (conv1): Conv2d(3, 16, kernel_size=(5, 5), stride=(1, 1))\n",
      "  (conv2): Conv2d(16, 32, kernel_size=(5, 5), stride=(1, 1))\n",
      "  (conv3): Conv2d(32, 64, kernel_size=(3, 3), stride=(1, 1))\n",
      "  (conv4): Conv2d(64, 128, kernel_size=(5, 5), stride=(1, 1))\n",
      "  (fc1): Linear(in_features=128, out_features=256, bias=True)\n",
      "  (fc2): Linear(in_features=256, out_features=29, bias=True)\n",
      "  (pool): MaxPool2d(kernel_size=2, stride=2, padding=0, dilation=1, ceil_mode=False)\n",
      ")\n",
      "277,949 total parameters.\n",
      "277,949 training parameters.\n",
      "Epoch 1 of 10\n",
      "Training\n"
     ]
    },
    {
     "name": "stderr",
     "output_type": "stream",
     "text": [
      "<ipython-input-8-c88712b1a157>:94: DeprecationWarning: an integer is required (got type numpy.float64).  Implicit conversion to integers using __int__ is deprecated, and may be removed in a future version of Python.\n",
      "  return torch.tensor(image, dtype=torch.float), torch.tensor(label, dtype=torch.long)\n",
      "925it [29:07,  1.89s/it]                                                                                               \n",
      "  0%|                                                                                          | 0/163 [00:00<?, ?it/s]"
     ]
    },
    {
     "name": "stdout",
     "output_type": "stream",
     "text": [
      "Train Loss: 0.0403, Train Acc: 60.28\n",
      "Validating\n"
     ]
    },
    {
     "name": "stderr",
     "output_type": "stream",
     "text": [
      "164it [02:42,  1.01it/s]                                                                                               \n",
      "  0%|                                                                                          | 0/924 [00:00<?, ?it/s]"
     ]
    },
    {
     "name": "stdout",
     "output_type": "stream",
     "text": [
      "Val Loss: 0.0144, Val Acc: 85.13\n",
      "Epoch 2 of 10\n",
      "Training\n"
     ]
    },
    {
     "name": "stderr",
     "output_type": "stream",
     "text": [
      "925it [21:08,  1.37s/it]                                                                                               \n",
      "  0%|                                                                                          | 0/163 [00:00<?, ?it/s]"
     ]
    },
    {
     "name": "stdout",
     "output_type": "stream",
     "text": [
      "Train Loss: 0.0071, Train Acc: 92.85\n",
      "Validating\n"
     ]
    },
    {
     "name": "stderr",
     "output_type": "stream",
     "text": [
      "164it [01:52,  1.46it/s]                                                                                               \n",
      "  0%|                                                                                          | 0/924 [00:00<?, ?it/s]"
     ]
    },
    {
     "name": "stdout",
     "output_type": "stream",
     "text": [
      "Val Loss: 0.0038, Val Acc: 96.02\n",
      "Epoch 3 of 10\n",
      "Training\n"
     ]
    },
    {
     "name": "stderr",
     "output_type": "stream",
     "text": [
      "925it [22:06,  1.43s/it]                                                                                               \n",
      "  0%|                                                                                          | 0/163 [00:00<?, ?it/s]"
     ]
    },
    {
     "name": "stdout",
     "output_type": "stream",
     "text": [
      "Train Loss: 0.0033, Train Acc: 96.68\n",
      "Validating\n"
     ]
    },
    {
     "name": "stderr",
     "output_type": "stream",
     "text": [
      "164it [01:50,  1.49it/s]                                                                                               \n",
      "  0%|                                                                                          | 0/924 [00:00<?, ?it/s]"
     ]
    },
    {
     "name": "stdout",
     "output_type": "stream",
     "text": [
      "Val Loss: 0.0030, Val Acc: 97.05\n",
      "Epoch 4 of 10\n",
      "Training\n"
     ]
    },
    {
     "name": "stderr",
     "output_type": "stream",
     "text": [
      "925it [18:49,  1.22s/it]                                                                                               \n",
      "  0%|                                                                                          | 0/163 [00:00<?, ?it/s]"
     ]
    },
    {
     "name": "stdout",
     "output_type": "stream",
     "text": [
      "Train Loss: 0.0023, Train Acc: 97.72\n",
      "Validating\n"
     ]
    },
    {
     "name": "stderr",
     "output_type": "stream",
     "text": [
      "164it [01:41,  1.62it/s]                                                                                               \n",
      "  0%|                                                                                          | 0/924 [00:00<?, ?it/s]"
     ]
    },
    {
     "name": "stdout",
     "output_type": "stream",
     "text": [
      "Val Loss: 0.0015, Val Acc: 98.51\n",
      "Epoch 5 of 10\n",
      "Training\n"
     ]
    },
    {
     "name": "stderr",
     "output_type": "stream",
     "text": [
      "925it [19:09,  1.24s/it]                                                                                               \n",
      "  0%|                                                                                          | 0/163 [00:00<?, ?it/s]"
     ]
    },
    {
     "name": "stdout",
     "output_type": "stream",
     "text": [
      "Train Loss: 0.0018, Train Acc: 98.34\n",
      "Validating\n"
     ]
    },
    {
     "name": "stderr",
     "output_type": "stream",
     "text": [
      "164it [01:51,  1.47it/s]                                                                                               \n",
      "  0%|                                                                                          | 0/924 [00:00<?, ?it/s]"
     ]
    },
    {
     "name": "stdout",
     "output_type": "stream",
     "text": [
      "Val Loss: 0.0044, Val Acc: 95.88\n",
      "Epoch 6 of 10\n",
      "Training\n"
     ]
    },
    {
     "name": "stderr",
     "output_type": "stream",
     "text": [
      "925it [22:01,  1.43s/it]                                                                                               \n",
      "  0%|                                                                                          | 0/163 [00:00<?, ?it/s]"
     ]
    },
    {
     "name": "stdout",
     "output_type": "stream",
     "text": [
      "Train Loss: 0.0017, Train Acc: 98.40\n",
      "Validating\n"
     ]
    },
    {
     "name": "stderr",
     "output_type": "stream",
     "text": [
      "164it [01:49,  1.50it/s]                                                                                               \n",
      "  0%|                                                                                          | 0/924 [00:00<?, ?it/s]"
     ]
    },
    {
     "name": "stdout",
     "output_type": "stream",
     "text": [
      "Val Loss: 0.0027, Val Acc: 96.84\n",
      "Epoch 7 of 10\n",
      "Training\n"
     ]
    },
    {
     "name": "stderr",
     "output_type": "stream",
     "text": [
      "925it [20:45,  1.35s/it]                                                                                               \n",
      "  0%|                                                                                          | 0/163 [00:00<?, ?it/s]"
     ]
    },
    {
     "name": "stdout",
     "output_type": "stream",
     "text": [
      "Train Loss: 0.0015, Train Acc: 98.58\n",
      "Validating\n"
     ]
    },
    {
     "name": "stderr",
     "output_type": "stream",
     "text": [
      "164it [01:40,  1.64it/s]                                                                                               \n",
      "  0%|                                                                                          | 0/924 [00:00<?, ?it/s]"
     ]
    },
    {
     "name": "stdout",
     "output_type": "stream",
     "text": [
      "Val Loss: 0.0048, Val Acc: 95.71\n",
      "Epoch 8 of 10\n",
      "Training\n"
     ]
    },
    {
     "name": "stderr",
     "output_type": "stream",
     "text": [
      "925it [19:51,  1.29s/it]                                                                                               \n",
      "  0%|                                                                                          | 0/163 [00:00<?, ?it/s]"
     ]
    },
    {
     "name": "stdout",
     "output_type": "stream",
     "text": [
      "Train Loss: 0.0014, Train Acc: 98.78\n",
      "Validating\n"
     ]
    },
    {
     "name": "stderr",
     "output_type": "stream",
     "text": [
      "164it [02:07,  1.29it/s]                                                                                               \n",
      "  0%|                                                                                          | 0/924 [00:00<?, ?it/s]"
     ]
    },
    {
     "name": "stdout",
     "output_type": "stream",
     "text": [
      "Val Loss: 0.0009, Val Acc: 98.85\n",
      "Epoch 9 of 10\n",
      "Training\n"
     ]
    },
    {
     "name": "stderr",
     "output_type": "stream",
     "text": [
      "925it [23:45,  1.54s/it]                                                                                               \n",
      "  0%|                                                                                          | 0/163 [00:00<?, ?it/s]"
     ]
    },
    {
     "name": "stdout",
     "output_type": "stream",
     "text": [
      "Train Loss: 0.0009, Train Acc: 99.23\n",
      "Validating\n"
     ]
    },
    {
     "name": "stderr",
     "output_type": "stream",
     "text": [
      "164it [02:03,  1.33it/s]                                                                                               \n",
      "  0%|                                                                                          | 0/924 [00:00<?, ?it/s]"
     ]
    },
    {
     "name": "stdout",
     "output_type": "stream",
     "text": [
      "Val Loss: 0.0005, Val Acc: 99.48\n",
      "Epoch 10 of 10\n",
      "Training\n"
     ]
    },
    {
     "name": "stderr",
     "output_type": "stream",
     "text": [
      "925it [23:11,  1.50s/it]                                                                                               \n",
      "  0%|                                                                                          | 0/163 [00:00<?, ?it/s]"
     ]
    },
    {
     "name": "stdout",
     "output_type": "stream",
     "text": [
      "Train Loss: 0.0012, Train Acc: 98.93\n",
      "Validating\n"
     ]
    },
    {
     "name": "stderr",
     "output_type": "stream",
     "text": [
      "164it [01:50,  1.48it/s]                                                                                               \n"
     ]
    },
    {
     "name": "stdout",
     "output_type": "stream",
     "text": [
      "Val Loss: 0.0046, Val Acc: 96.99\n"
     ]
    },
    {
     "data": {
      "image/png": "[encoded data removed]",
      "text/plain": [
       "<Figure size 720x504 with 1 Axes>"
      ]
     },
     "metadata": {
      "needs_background": "light"
     },
     "output_type": "display_data"
    },
    {
     "data": {
      "image/png": "[encoded data removed]",
      "text/plain": [
       "<Figure size 720x504 with 1 Axes>"
      ]
     },
     "metadata": {
      "needs_background": "light"
     },
     "output_type": "display_data"
    },
    {
     "name": "stdout",
     "output_type": "stream",
     "text": [
      "Saving model...\n"
     ]
    }
   ],
   "source": [
    "import pandas as pd\n",
    "import joblib\n",
    "import numpy as np\n",
    "import torch\n",
    "import random\n",
    "import albumentations\n",
    "import matplotlib.pyplot as plt\n",
    "import torch.nn as nn\n",
    "import torch.nn.functional as F\n",
    "import torch.optim as optim\n",
    "import torchvision.transforms as transforms\n",
    "import time\n",
    "import cv2\n",
    "import cnn_models\n",
    "from tqdm import tqdm\n",
    "from sklearn.model_selection import train_test_split\n",
    "from torch.utils.data import Dataset, DataLoader\n",
    "\n",
    "\n",
    "num_epoch=int(input(\"Enter the number of epochs\"))\n",
    "''' SEED Everything '''\n",
    "def seed_everything(SEED=42):\n",
    "    random.seed(SEED)\n",
    "    np.random.seed(SEED)\n",
    "    torch.manual_seed(SEED)\n",
    "    torch.cuda.manual_seed(SEED)\n",
    "    torch.cuda.manual_seed_all(SEED)\n",
    "    torch.backends.cudnn.benchmark = True \n",
    "SEED=42\n",
    "seed_everything(SEED=SEED)\n",
    "''' SEED Everything '''\n",
    "# set computation device\n",
    "device = ('cuda:0' if torch.cuda.is_available() else 'cpu')\n",
    "print(f\"Computation device: {device}\")\n",
    "\n",
    "\n",
    "# ### Reading and preparing train and validation set\n",
    "\n",
    "# read the data.csv file and get the image paths and labels\n",
    "df = pd.read_csv('ASL/input/data.csv')\n",
    "X = df.image_path.values\n",
    "y = df.target.values\n",
    "(xtrain, xtest, ytrain, ytest) = (train_test_split(X, y, \n",
    "                                test_size=0.15, random_state=42))\n",
    "print(f\"Training on {len(xtrain)} images\")\n",
    "print(f\"Validationg on {len(xtest)} images\")\n",
    "\n",
    "\n",
    "# ###custom dataset module\n",
    "\n",
    "# image dataset module\n",
    "class ASLImageDataset(Dataset):\n",
    "    def __init__(self, path, labels):\n",
    "        self.X = path\n",
    "        self.y = labels\n",
    "        # apply augmentations\n",
    "        self.aug = albumentations.Compose([\n",
    "            albumentations.Resize(224, 224, always_apply=True),\n",
    "        ])\n",
    "    def __len__(self):\n",
    "        return (len(self.X))\n",
    "    \n",
    "    def __getitem__(self, i):\n",
    "        image = cv2.imread(self.X[i])\n",
    "        image = self.aug(image=np.array(image))['image']\n",
    "        image = np.transpose(image, (2, 0, 1)).astype(np.float32)\n",
    "        label = self.y[i]\n",
    "        return torch.tensor(image, dtype=torch.float), torch.tensor(label, dtype=torch.long)\n",
    "\n",
    "train_data = ASLImageDataset(xtrain, ytrain)\n",
    "test_data = ASLImageDataset(xtest, ytest)\n",
    " \n",
    "# dataloaders\n",
    "trainloader = DataLoader(train_data, batch_size=32, shuffle=True)\n",
    "testloader = DataLoader(test_data, batch_size=32, shuffle=False)\n",
    "\n",
    "\n",
    "# ### preparing our neural network\n",
    "\n",
    "# model = models.MobineNetV2(pretrained=True, requires_grad=False)\n",
    "model = cnn_models.CustomCNN().to(device)\n",
    "print(model)\n",
    "# total parameters and trainable parameters\n",
    "total_params = sum(p.numel() for p in model.parameters())\n",
    "print(f\"{total_params:,} total parameters.\")\n",
    "total_trainable_params = sum(\n",
    "    p.numel() for p in model.parameters() if p.requires_grad)\n",
    "print(f\"{total_trainable_params:,} training parameters.\")\n",
    "\n",
    "\n",
    "# optimizer\n",
    "optimizer = optim.Adam(model.parameters(), lr=0.001)\n",
    "# loss function\n",
    "criterion = nn.CrossEntropyLoss()\n",
    "\n",
    "\n",
    "# training function\n",
    "def fit(model, dataloader):\n",
    "    print('Training')\n",
    "    model.train()\n",
    "    running_loss = 0.0\n",
    "    running_correct = 0\n",
    "    for i, data in tqdm(enumerate(dataloader), total=int(len(train_data)/dataloader.batch_size)):\n",
    "        data, target = data[0].to(device), data[1].to(device)\n",
    "        optimizer.zero_grad()\n",
    "        outputs = model(data)\n",
    "        loss = criterion(outputs, target)\n",
    "        running_loss += loss.item()\n",
    "        _, preds = torch.max(outputs.data, 1)\n",
    "        running_correct += (preds == target).sum().item()\n",
    "        loss.backward()\n",
    "        optimizer.step()\n",
    "        \n",
    "    train_loss = running_loss/len(dataloader.dataset)\n",
    "    train_accuracy = 100. * running_correct/len(dataloader.dataset)\n",
    "    \n",
    "    print(f\"Train Loss: {train_loss:.4f}, Train Acc: {train_accuracy:.2f}\")\n",
    "    \n",
    "    return train_loss, train_accuracy\n",
    "\n",
    "\n",
    "#validation function\n",
    "def validate(model, dataloader):\n",
    "    print('Validating')\n",
    "    model.eval()\n",
    "    running_loss = 0.0\n",
    "    running_correct = 0\n",
    "    with torch.no_grad():\n",
    "        for i, data in tqdm(enumerate(dataloader), total=int(len(test_data)/dataloader.batch_size)):\n",
    "            data, target = data[0].to(device), data[1].to(device)\n",
    "            outputs = model(data)\n",
    "            loss = criterion(outputs, target)\n",
    "            \n",
    "            running_loss += loss.item()\n",
    "            _, preds = torch.max(outputs.data, 1)\n",
    "            running_correct += (preds == target).sum().item()\n",
    "        \n",
    "        val_loss = running_loss/len(dataloader.dataset)\n",
    "        val_accuracy = 100. * running_correct/len(dataloader.dataset)\n",
    "        print(f'Val Loss: {val_loss:.4f}, Val Acc: {val_accuracy:.2f}')\n",
    "        \n",
    "        return val_loss, val_accuracy\n",
    "\n",
    "\n",
    "train_loss , train_accuracy = [], []\n",
    "val_loss , val_accuracy = [], []\n",
    "start = time.time()\n",
    "for epoch in range(num_epoch):\n",
    "    print(f\"Epoch {epoch+1} of {num_epoch}\")\n",
    "    train_epoch_loss, train_epoch_accuracy = fit(model, trainloader)\n",
    "    val_epoch_loss, val_epoch_accuracy = validate(model, testloader)\n",
    "    train_loss.append(train_epoch_loss)\n",
    "    train_accuracy.append(train_epoch_accuracy)\n",
    "    val_loss.append(val_epoch_loss)\n",
    "    val_accuracy.append(val_epoch_accuracy)\n",
    "end = time.time()\n",
    "\n",
    "# accuracy plots\n",
    "plt.figure(figsize=(10, 7))\n",
    "plt.plot(train_accuracy, color='green', label='train accuracy')\n",
    "plt.plot(val_accuracy, color='blue', label='validataion accuracy')\n",
    "plt.xlabel('Epochs')\n",
    "plt.ylabel('Accuracy')\n",
    "plt.legend()\n",
    "plt.savefig('ASL/output/accuracy.png')\n",
    "plt.show()\n",
    " \n",
    "# loss plots\n",
    "plt.figure(figsize=(10, 7))\n",
    "plt.plot(train_loss, color='orange', label='train loss')\n",
    "plt.plot(val_loss, color='red', label='validataion loss')\n",
    "plt.xlabel('Epochs')\n",
    "plt.ylabel('Loss')\n",
    "plt.legend()\n",
    "plt.savefig('ASL/output/loss.png')\n",
    "plt.show()\n",
    "# save the model to disk\n",
    "print('Saving model...')\n",
    "torch.save(model.state_dict(), 'ASL/output/model.pth')\n",
    "\n",
    "\n"
   ]
  },
  {
   "cell_type": "markdown",
   "metadata": {},
   "source": [
    "# Testing the Model"
   ]
  },
  {
   "cell_type": "code",
   "execution_count": 1,
   "metadata": {},
   "outputs": [
    {
     "name": "stdout",
     "output_type": "stream",
     "text": [
      "Loading label binarizer...\n",
      "Enter the path of test imageC:\\Users\\prathibha k s\\ASL\\input\\asl_alphabet_test\\asl_alphabet_test\\C_test1.jpg\n",
      "CustomCNN(\n",
      "  (conv1): Conv2d(3, 16, kernel_size=(5, 5), stride=(1, 1))\n",
      "  (conv2): Conv2d(16, 32, kernel_size=(5, 5), stride=(1, 1))\n",
      "  (conv3): Conv2d(32, 64, kernel_size=(3, 3), stride=(1, 1))\n",
      "  (conv4): Conv2d(64, 128, kernel_size=(5, 5), stride=(1, 1))\n",
      "  (fc1): Linear(in_features=128, out_features=256, bias=True)\n",
      "  (fc2): Linear(in_features=256, out_features=29, bias=True)\n",
      "  (pool): MaxPool2d(kernel_size=2, stride=2, padding=0, dilation=1, ceil_mode=False)\n",
      ")\n",
      "Model loaded\n"
     ]
    },
    {
     "ename": "error",
     "evalue": "OpenCV(4.5.1) C:\\Users\\appveyor\\AppData\\Local\\Temp\\1\\pip-req-build-i1s8y2i1\\opencv\\modules\\imgproc\\src\\resize.cpp:4051: error: (-215:Assertion failed) !ssize.empty() in function 'cv::resize'\n",
     "output_type": "error",
     "traceback": [
      "\u001b[1;31m---------------------------------------------------------------------------\u001b[0m",
      "\u001b[1;31merror\u001b[0m                                     Traceback (most recent call last)",
      "\u001b[1;32m<ipython-input-1-95db33719f10>\u001b[0m in \u001b[0;36m<module>\u001b[1;34m\u001b[0m\n\u001b[0;32m     28\u001b[0m \u001b[1;33m\u001b[0m\u001b[0m\n\u001b[0;32m     29\u001b[0m \u001b[0mimage\u001b[0m \u001b[1;33m=\u001b[0m \u001b[0mcv2\u001b[0m\u001b[1;33m.\u001b[0m\u001b[0mimread\u001b[0m\u001b[1;33m(\u001b[0m\u001b[0mtest_img\u001b[0m\u001b[1;33m)\u001b[0m\u001b[1;33m\u001b[0m\u001b[1;33m\u001b[0m\u001b[0m\n\u001b[1;32m---> 30\u001b[1;33m \u001b[0mimage\u001b[0m \u001b[1;33m=\u001b[0m \u001b[0mcv2\u001b[0m\u001b[1;33m.\u001b[0m\u001b[0mresize\u001b[0m\u001b[1;33m(\u001b[0m\u001b[0mimage\u001b[0m\u001b[1;33m,\u001b[0m \u001b[1;33m(\u001b[0m\u001b[1;36m224\u001b[0m\u001b[1;33m,\u001b[0m \u001b[1;36m224\u001b[0m\u001b[1;33m)\u001b[0m\u001b[1;33m)\u001b[0m\u001b[1;33m\u001b[0m\u001b[1;33m\u001b[0m\u001b[0m\n\u001b[0m\u001b[0;32m     31\u001b[0m \u001b[0mimage_copy\u001b[0m \u001b[1;33m=\u001b[0m \u001b[0mimage\u001b[0m\u001b[1;33m.\u001b[0m\u001b[0mcopy\u001b[0m\u001b[1;33m(\u001b[0m\u001b[1;33m)\u001b[0m\u001b[1;33m\u001b[0m\u001b[1;33m\u001b[0m\u001b[0m\n\u001b[0;32m     32\u001b[0m \u001b[1;33m\u001b[0m\u001b[0m\n",
      "\u001b[1;31merror\u001b[0m: OpenCV(4.5.1) C:\\Users\\appveyor\\AppData\\Local\\Temp\\1\\pip-req-build-i1s8y2i1\\opencv\\modules\\imgproc\\src\\resize.cpp:4051: error: (-215:Assertion failed) !ssize.empty() in function 'cv::resize'\n"
     ]
    }
   ],
   "source": [
    "import matplotlib.pyplot as plt\n",
    "import torch\n",
    "import joblib\n",
    "import torch.nn as nn\n",
    "import numpy as np\n",
    "import cv2\n",
    "import albumentations\n",
    "import torch.nn.functional as F\n",
    "import time\n",
    "import cnn_models\n",
    "\n",
    "test_img=str(input(\"Enter the path of test image :\"))\n",
    "\n",
    "\n",
    "aug = albumentations.Compose([\n",
    "                albumentations.Resize(224, 224, always_apply=True),\n",
    "])\n",
    "\n",
    "# load label binarizer\n",
    "lb = joblib.load('ASL/output/lb.pkl')\n",
    "\n",
    "\n",
    "model = cnn_models.CustomCNN()\n",
    "model.load_state_dict(torch.load('ASL/output/model.pth'))\n",
    "print(model)\n",
    "print('Model loaded')\n",
    "\n",
    "\n",
    "image = cv2.imread(test_img)\n",
    "image_copy = image.copy()\n",
    " \n",
    "image = aug(image=np.array(image))['image']\n",
    "image = np.transpose(image, (2, 0, 1)).astype(np.float32)\n",
    "image = torch.tensor(image, dtype=torch.float)\n",
    "image = image.unsqueeze(0)\n",
    "print(image.shape)\n",
    "\n",
    "\n",
    "start = time.time()\n",
    "outputs = model(image)\n",
    "_, preds = torch.max(outputs.data, 1)\n",
    "print('PREDS', preds)\n",
    "print(f\"Predicted output: {lb.classes_[preds]}\")\n",
    "end = time.time()\n",
    "print(f\"{(end-start):.3f} seconds\")\n",
    " \n",
    "cv2.putText(image_copy, lb.classes_[preds], (10, 30), cv2.FONT_HERSHEY_SIMPLEX, 0.9, (0, 0, 255), 2)\n",
    "\n",
    "plt.imshow(image_copy, cmap = 'gray', interpolation = 'bicubic')\n",
    "plt.xticks([]), plt.yticks([])  # to hide tick values on X and Y axis\n",
    "plt.show()\n",
    "#cv2.imshow('image', image_copy)\n",
    "#cv2.waitKey(0)\n"
   ]
  },
  {
   "cell_type": "markdown",
   "metadata": {},
   "source": [
    "# Real time capture"
   ]
  },
  {
   "cell_type": "code",
   "execution_count": null,
   "metadata": {},
   "outputs": [],
   "source": [
    "import torch\n",
    "import joblib\n",
    "import torch.nn as nn\n",
    "import numpy as np\n",
    "import cv2\n",
    "import torch.nn.functional as F\n",
    "import time\n",
    "import cnn_models\n",
    " \n",
    "# load label binarizer\n",
    "lb = joblib.load('ASL/output/lb.pkl')\n",
    "model = cnn_models.CustomCNN()\n",
    "model.load_state_dict(torch.load('ASL/output/model.pth'))\n",
    "print(model)\n",
    "print('Model loaded')\n",
    "\n",
    "\n",
    "def hand_area(img):\n",
    "    hand = img[100:324, 100:324]\n",
    "    hand = cv2.resize(hand, (224,224))\n",
    "    return hand\n",
    "\n",
    "\n",
    "cap = cv2.VideoCapture(0)\n",
    "if (cap.isOpened() == False):\n",
    "    print('Error while trying to open camera. Plese check again...')\n",
    "# get the frame width and height\n",
    "frame_width = int(cap.get(3))\n",
    "frame_height = int(cap.get(4))\n",
    "# define codec and create VideoWriter object\n",
    "out = cv2.VideoWriter('ASL/output/asl.mp4', cv2.VideoWriter_fourcc(*'mp4v'), 30, (frame_width,frame_height))\n",
    "\n",
    "\n",
    "while(cap.isOpened()):\n",
    "    # capture each frame of the video\n",
    "    ret, frame = cap.read()\n",
    "    # get the hand area on the video capture screen\n",
    "    cv2.rectangle(frame, (100, 100), (324, 324), (20, 34, 255), 2)\n",
    "    hand = hand_area(frame)\n",
    "    image = hand\n",
    "    \n",
    "    image = np.transpose(image, (2, 0, 1)).astype(np.float32)\n",
    "    image = torch.tensor(image, dtype=torch.float)\n",
    "    image = image.unsqueeze(0)\n",
    "    \n",
    "    outputs = model(image)\n",
    "    _, preds = torch.max(outputs.data, 1)\n",
    "    \n",
    "    cv2.putText(frame, lb.classes_[preds], (10, 30), cv2.FONT_HERSHEY_SIMPLEX, 0.9, (0, 0, 255), 2)\n",
    "    #plt.imshow(frame, cmap = 'gray', interpolation = 'bicubic')\n",
    "    #plt.xticks([]), plt.yticks([])  # to hide tick values on X and Y axis\n",
    "    #plt.show()\n",
    "    cv2.imshow('image', frame)\n",
    "    exit()\n",
    "    out.write(frame)\n",
    "    # press `q` to exit\n",
    "    if cv2.waitKey(27) & 0xFF == ord('q'):\n",
    "        break\n",
    "# release VideoCapture()\n",
    "cap.release()\n",
    "# close all frames and video windows\n",
    "cv2.destroyAllWindows()\n",
    "\n"
   ]
  },
  {
   "cell_type": "code",
   "execution_count": null,
   "metadata": {},
   "outputs": [],
   "source": []
  }
 ],
 "metadata": {
  "kernelspec": {
   "display_name": "Python 3",
   "language": "python",
   "name": "python3"
  },
  "language_info": {
   "codemirror_mode": {
    "name": "ipython",
    "version": 3
   },
   "file_extension": ".py",
   "mimetype": "text/x-python",
   "name": "python",
   "nbconvert_exporter": "python",
   "pygments_lexer": "ipython3",
   "version": "3.8.3"
  }
 },
 "nbformat": 4,
 "nbformat_minor": 4
}
